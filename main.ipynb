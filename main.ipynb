{
 "cells": [
  {
   "cell_type": "code",
   "execution_count": 2,
   "metadata": {},
   "outputs": [
    {
     "name": "stdout",
     "output_type": "stream",
     "text": [
      "         country food_category  consumption  co2_emission\n",
      "1      Argentina          pork        10.51         37.20\n",
      "2      Argentina       poultry        38.66         41.53\n",
      "3      Argentina          beef        55.48       1712.00\n",
      "4      Argentina     lamb_goat         1.56         54.63\n",
      "5      Argentina          fish         4.36          6.96\n",
      "...          ...           ...          ...           ...\n",
      "1426  Bangladesh         dairy        21.91         31.21\n",
      "1427  Bangladesh         wheat        17.47          3.33\n",
      "1428  Bangladesh          rice       171.73        219.76\n",
      "1429  Bangladesh      soybeans         0.61          0.27\n",
      "1430  Bangladesh          nuts         0.72          1.27\n",
      "\n",
      "[1430 rows x 4 columns]\n"
     ]
    }
   ],
   "source": [
    "\n",
    "import numpy as np\n",
    "import pandas as pd\n",
    "import matplotlib.pyplot as plt\n",
    "\n",
    "plt.rcParams['figure.figsize'] = (10, 8)\n",
    "\n",
    "#read the data\n",
    "food_consumption = pd.read_csv('food_consumption.csv', index_col=0)\n",
    "food_consumption.head()\n",
    "\n",
    "print (food_consumption)\n"
   ]
  },
  {
   "cell_type": "code",
   "execution_count": 5,
   "metadata": {},
   "outputs": [
    {
     "name": "stdout",
     "output_type": "stream",
     "text": [
      "_____________________________________________________________________\n",
      "Filter for Belgium\n",
      "_____________________________________________________________________\n",
      "     country food_category  consumption  co2_emission\n",
      "397  Belgium          pork        38.65        136.80\n",
      "398  Belgium       poultry        12.20         13.11\n",
      "399  Belgium          beef        15.63        482.31\n",
      "400  Belgium     lamb_goat         1.32         46.23\n",
      "401  Belgium          fish        18.97         30.29\n",
      "402  Belgium          eggs        12.59         11.57\n",
      "403  Belgium         dairy       236.19        336.43\n",
      "404  Belgium         wheat       111.91         21.34\n",
      "405  Belgium          rice         8.61         11.02\n",
      "406  Belgium      soybeans         0.07          0.03\n",
      "407  Belgium          nuts         7.32         12.96\n"
     ]
    }
   ],
   "source": [
    "print ('_____________________________________________________________________')\n",
    "print ('Filter for Belgium')\n",
    "print ('_____________________________________________________________________')\n",
    "\n",
    "#filter for Belgium\n",
    "be_consumption = food_consumption[food_consumption['country'] == 'Belgium']\n",
    "print (be_consumption)"
   ]
  },
  {
   "cell_type": "code",
   "execution_count": 6,
   "metadata": {},
   "outputs": [
    {
     "name": "stdout",
     "output_type": "stream",
     "text": [
      "_____________________________________________________________________\n",
      "Filter for USA\n",
      "_____________________________________________________________________\n",
      "   country food_category  consumption  co2_emission\n",
      "56     USA          pork        27.64         97.83\n",
      "57     USA       poultry        50.01         53.72\n",
      "58     USA          beef        36.24       1118.29\n",
      "59     USA     lamb_goat         0.43         15.06\n",
      "60     USA          fish        12.35         19.72\n",
      "61     USA          eggs        14.58         13.39\n",
      "62     USA         dairy       254.69        362.78\n",
      "63     USA         wheat        80.43         15.34\n",
      "64     USA          rice         6.88          8.80\n",
      "65     USA      soybeans         0.04          0.02\n",
      "66     USA          nuts         7.86         13.91\n",
      "_____________________________________________________________________\n"
     ]
    }
   ],
   "source": [
    "print ('_____________________________________________________________________')\n",
    "print ('Filter for USA')\n",
    "print ('_____________________________________________________________________')\n",
    "# Filter for USA\n",
    "usa_consumption = food_consumption[food_consumption['country'] == 'USA']\n",
    "print (usa_consumption)\n",
    "print ('_____________________________________________________________________')"
   ]
  },
  {
   "cell_type": "code",
   "execution_count": 7,
   "metadata": {},
   "outputs": [
    {
     "name": "stdout",
     "output_type": "stream",
     "text": [
      "Q-1) Calculate mean and median consumption in Belgium\n",
      "Mean consumption in Belgium: 42.13272727272727\n",
      "Median consumption in Belgium: 12.59\n",
      "_____________________________________________________________________\n"
     ]
    }
   ],
   "source": [
    "\n",
    "# Q-1) Calculate mean and median consumption in Belgium\n",
    "print ('Q-1) Calculate mean and median consumption in Belgium')\n",
    "BE_mean_consumption = be_consumption['consumption'].mean()\n",
    "BE_median_consumption = be_consumption['consumption'].median()\n",
    "\n",
    "print('Mean consumption in Belgium:', BE_mean_consumption)\n",
    "print('Median consumption in Belgium:', BE_median_consumption)\n",
    "print ('_____________________________________________________________________')\n"
   ]
  },
  {
   "cell_type": "code",
   "execution_count": 8,
   "metadata": {},
   "outputs": [
    {
     "name": "stdout",
     "output_type": "stream",
     "text": [
      "Q-2) Calculate mean and median consumption of USA\n",
      "Mean consumption in the USA: 44.650000000000006\n",
      "Median consumption in the USA: 14.58\n",
      "_____________________________________________________________________\n"
     ]
    }
   ],
   "source": [
    "# Q-2) Calculate mean and median consumption of USA\n",
    "print ('Q-2) Calculate mean and median consumption of USA')\n",
    "USA_mean_consumption = usa_consumption['consumption'].mean()\n",
    "USA_median_consumption = usa_consumption['consumption'].median()\n",
    "\n",
    "print('Mean consumption in the USA:', USA_mean_consumption)\n",
    "print('Median consumption in the USA:', USA_median_consumption)\n",
    "print ('_____________________________________________________________________')\n"
   ]
  },
  {
   "cell_type": "code",
   "execution_count": 9,
   "metadata": {},
   "outputs": [
    {
     "name": "stdout",
     "output_type": "stream",
     "text": [
      "Q-3) Group by country, select consumption column, and compute mean and median\n",
      "              mean  median\n",
      "country                   \n",
      "Belgium  42.132727   12.59\n",
      "USA      44.650000   14.58\n",
      "_____________________________________________________________________\n"
     ]
    }
   ],
   "source": [
    "\n",
    "# Work with both countries together\n",
    "be_and_usa = food_consumption[(food_consumption['country'] == 'Belgium') | \n",
    "                              (food_consumption['country'] == 'USA')]\n",
    "\n",
    "# Q-3) Group by country, select consumption column, and compute mean and median\n",
    "print ('Q-3) Group by country, select consumption column, and compute mean and median')\n",
    "\n",
    "consumption_stats = be_and_usa.groupby('country')['consumption'].agg(['mean', 'median'])\n",
    "print(consumption_stats)\n",
    "print ('_____________________________________________________________________')\n",
    "\n",
    "rice_consumption = food_consumption[food_consumption['food_category'] == 'rice']"
   ]
  },
  {
   "cell_type": "code",
   "execution_count": 10,
   "metadata": {},
   "outputs": [
    {
     "name": "stdout",
     "output_type": "stream",
     "text": [
      "Q-4)Plot the histogram of co2_emission for rice\n"
     ]
    },
    {
     "data": {
      "image/png": "[encoded data removed]",
      "text/plain": [
       "<Figure size 1000x800 with 1 Axes>"
      ]
     },
     "metadata": {},
     "output_type": "display_data"
    }
   ],
   "source": [
    "#Q-4)Plot the histogram of co2_emission for rice\n",
    "print ('Q-4)Plot the histogram of co2_emission for rice')\n",
    "\n",
    "plt.hist(rice_consumption['co2_emission'])\n",
    "plt.title('Histogram of CO2 emission for rice consumption')\n",
    "plt.xlabel('CO2 emission')\n",
    "plt.ylabel('Counts') # not sure if this is correct?\n",
    "plt.show()\n"
   ]
  },
  {
   "cell_type": "code",
   "execution_count": 11,
   "metadata": {},
   "outputs": [
    {
     "name": "stdout",
     "output_type": "stream",
     "text": [
      "Q-5) Calculate mean and median of co2_emission with .agg()\n",
      "Mean CO2 emission: 37.59161538461538\n",
      "Median CO2 emission: 15.2\n",
      "_____________________________________________________________________\n"
     ]
    }
   ],
   "source": [
    "\n",
    "#Q-5) Calculate mean and median of co2_emission with .agg()\n",
    "print ('Q-5) Calculate mean and median of co2_emission with .agg()')\n",
    "\n",
    "rice_co2_stats = rice_consumption['co2_emission'].agg(['mean', 'median'])\n",
    "print('Mean CO2 emission:', rice_co2_stats['mean'])\n",
    "print('Median CO2 emission:', rice_co2_stats['median'])\n",
    "print ('_____________________________________________________________________')\n"
   ]
  },
  {
   "cell_type": "code",
   "execution_count": 12,
   "metadata": {},
   "outputs": [
    {
     "name": "stdout",
     "output_type": "stream",
     "text": [
      "Q-6) Calculate the quintiles of co2_emission\n",
      "[   0.       3.54    11.026   25.59    99.978 1712.   ]\n",
      "_____________________________________________________________________\n"
     ]
    }
   ],
   "source": [
    "\n",
    "#Q-6) Calculate the quintiles of co2_emission\n",
    "print ('Q-6) Calculate the quintiles of co2_emission')\n",
    "print(np.quantile(food_consumption['co2_emission'], np.linspace(0, 1, 6)))\n",
    "\n",
    "print ('_____________________________________________________________________')\n"
   ]
  },
  {
   "cell_type": "code",
   "execution_count": 13,
   "metadata": {},
   "outputs": [
    {
     "name": "stdout",
     "output_type": "stream",
     "text": [
      "Q-7) Calculate the variance and standard deviation of co2_emission for food_categories\n",
      "                        var         std\n",
      "food_category                          \n",
      "beef           88748.408132  297.906710\n",
      "dairy          17671.891985  132.935669\n",
      "eggs              21.371819    4.622966\n",
      "fish             921.637349   30.358481\n",
      "lamb_goat      16475.518363  128.356996\n",
      "nuts              35.639652    5.969895\n",
      "pork            3094.963537   55.632396\n",
      "poultry          245.026801   15.653332\n",
      "rice            2281.376243   47.763754\n",
      "soybeans           0.879882    0.938020\n",
      "wheat             71.023937    8.427570\n",
      "_____________________________________________________________________\n"
     ]
    }
   ],
   "source": [
    "\n",
    "#Q-7) Calculate the variance and standard deviation of co2_emission for food_categories\n",
    "print ('Q-7) Calculate the variance and standard deviation of co2_emission for food_categories')\n",
    "\n",
    "co2_stats = food_consumption.groupby('food_category')['co2_emission'].agg(['var', 'std'])\n",
    "print(co2_stats)\n",
    "\n",
    "print ('_____________________________________________________________________')\n",
    "\n"
   ]
  },
  {
   "cell_type": "code",
   "execution_count": 14,
   "metadata": {},
   "outputs": [
    {
     "name": "stdout",
     "output_type": "stream",
     "text": [
      "Q-8) Create histogram of co2_emission for food_category 'beef'\n"
     ]
    },
    {
     "data": {
      "image/png": "[encoded data removed]",
      "text/plain": [
       "<Figure size 1000x800 with 1 Axes>"
      ]
     },
     "metadata": {},
     "output_type": "display_data"
    }
   ],
   "source": [
    "\n",
    "#Q-8) Create histogram of co2_emission for food_category 'beef'\n",
    "print (\"Q-8) Create histogram of co2_emission for food_category 'beef'\")\n",
    "\n",
    "# Filter for beef consumption\n",
    "beef_consumption = food_consumption[food_consumption['food_category'] == 'beef']\n",
    "\n",
    "plt.hist(beef_consumption['co2_emission'])\n",
    "plt.title('Histogram of CO2 emission for beef consumption')\n",
    "plt.xlabel('CO2 emission')\n",
    "plt.ylabel('Counts')\n",
    "plt.show()\n"
   ]
  },
  {
   "cell_type": "code",
   "execution_count": 15,
   "metadata": {},
   "outputs": [
    {
     "name": "stdout",
     "output_type": "stream",
     "text": [
      "_____________________________________________________________________\n",
      "country\n",
      "Albania      1777.85\n",
      "Algeria       707.88\n",
      "Angola        412.99\n",
      "Argentina    2172.40\n",
      "Armenia      1109.93\n",
      "              ...   \n",
      "Uruguay      1634.91\n",
      "Venezuela    1104.10\n",
      "Vietnam       641.51\n",
      "Zambia        225.30\n",
      "Zimbabwe      350.33\n",
      "Name: co2_emission, Length: 130, dtype: float64\n",
      "_____________________________________________________________________\n",
      "country\n",
      "Argentina    2172.4\n",
      "Name: co2_emission, dtype: float64\n"
     ]
    }
   ],
   "source": [
    "\n",
    "print ('_____________________________________________________________________')\n",
    "\n",
    "emissions_by_country = food_consumption.groupby('country')['co2_emission'].sum()\n",
    "\n",
    "print(emissions_by_country)\n",
    "\n",
    "print ('_____________________________________________________________________')\n",
    "\n",
    "q1 = np.quantile(emissions_by_country, 0.25)\n",
    "q3 = np.quantile(emissions_by_country, 0.75)\n",
    "iqr = q3 - q1\n",
    "\n",
    "# Calculate the lower and upper cutoffs for outliers\n",
    "lower = q1 - 1.5 * iqr\n",
    "upper = q3 + 1.5 * iqr\n",
    "\n",
    "# Subset emissions_by_country to find outliers\n",
    "outliers = emissions_by_country[(emissions_by_country > upper) | (emissions_by_country < lower)]\n",
    "print(outliers)\n",
    "\n"
   ]
  }
 ],
 "metadata": {
  "kernelspec": {
   "display_name": "Python 3",
   "language": "python",
   "name": "python3"
  },
  "language_info": {
   "codemirror_mode": {
    "name": "ipython",
    "version": 3
   },
   "file_extension": ".py",
   "mimetype": "text/x-python",
   "name": "python",
   "nbconvert_exporter": "python",
   "pygments_lexer": "ipython3",
   "version": "3.10.6"
  },
  "orig_nbformat": 4
 },
 "nbformat": 4,
 "nbformat_minor": 2
}
