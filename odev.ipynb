{
 "cells": [
  {
   "attachments": {},
   "cell_type": "markdown",
   "metadata": {},
   "source": [
    "Odev cozumu"
   ]
  },
  {
   "cell_type": "code",
   "execution_count": 43,
   "metadata": {},
   "outputs": [],
   "source": [
    "import pandas as pd\n",
    "import numpy as np\n",
    "from matplotlib import pyplot as plt"
   ]
  },
  {
   "cell_type": "code",
   "execution_count": 5,
   "metadata": {},
   "outputs": [
    {
     "data": {
      "text/html": [
       "<div>\n",
       "<style scoped>\n",
       "    .dataframe tbody tr th:only-of-type {\n",
       "        vertical-align: middle;\n",
       "    }\n",
       "\n",
       "    .dataframe tbody tr th {\n",
       "        vertical-align: top;\n",
       "    }\n",
       "\n",
       "    .dataframe thead th {\n",
       "        text-align: right;\n",
       "    }\n",
       "</style>\n",
       "<table border=\"1\" class=\"dataframe\">\n",
       "  <thead>\n",
       "    <tr style=\"text-align: right;\">\n",
       "      <th></th>\n",
       "      <th>country</th>\n",
       "      <th>food_category</th>\n",
       "      <th>consumption</th>\n",
       "      <th>co2_emission</th>\n",
       "    </tr>\n",
       "  </thead>\n",
       "  <tbody>\n",
       "    <tr>\n",
       "      <th>1</th>\n",
       "      <td>Argentina</td>\n",
       "      <td>pork</td>\n",
       "      <td>10.51</td>\n",
       "      <td>37.20</td>\n",
       "    </tr>\n",
       "    <tr>\n",
       "      <th>2</th>\n",
       "      <td>Argentina</td>\n",
       "      <td>poultry</td>\n",
       "      <td>38.66</td>\n",
       "      <td>41.53</td>\n",
       "    </tr>\n",
       "    <tr>\n",
       "      <th>3</th>\n",
       "      <td>Argentina</td>\n",
       "      <td>beef</td>\n",
       "      <td>55.48</td>\n",
       "      <td>1712.00</td>\n",
       "    </tr>\n",
       "    <tr>\n",
       "      <th>4</th>\n",
       "      <td>Argentina</td>\n",
       "      <td>lamb_goat</td>\n",
       "      <td>1.56</td>\n",
       "      <td>54.63</td>\n",
       "    </tr>\n",
       "    <tr>\n",
       "      <th>5</th>\n",
       "      <td>Argentina</td>\n",
       "      <td>fish</td>\n",
       "      <td>4.36</td>\n",
       "      <td>6.96</td>\n",
       "    </tr>\n",
       "  </tbody>\n",
       "</table>\n",
       "</div>"
      ],
      "text/plain": [
       "     country food_category  consumption  co2_emission\n",
       "1  Argentina          pork        10.51         37.20\n",
       "2  Argentina       poultry        38.66         41.53\n",
       "3  Argentina          beef        55.48       1712.00\n",
       "4  Argentina     lamb_goat         1.56         54.63\n",
       "5  Argentina          fish         4.36          6.96"
      ]
     },
     "execution_count": 5,
     "metadata": {},
     "output_type": "execute_result"
    }
   ],
   "source": [
    "#import dataframe\n",
    "food_consumption = pd.read_csv(\"C:/Users/Abdulrhman Al-Tabali/Desktop/statistics/assignment/food_consumption.csv\",index_col=0)\n",
    "food_consumption.head()"
   ]
  },
  {
   "cell_type": "code",
   "execution_count": 15,
   "metadata": {},
   "outputs": [
    {
     "data": {
      "text/html": [
       "<div>\n",
       "<style scoped>\n",
       "    .dataframe tbody tr th:only-of-type {\n",
       "        vertical-align: middle;\n",
       "    }\n",
       "\n",
       "    .dataframe tbody tr th {\n",
       "        vertical-align: top;\n",
       "    }\n",
       "\n",
       "    .dataframe thead th {\n",
       "        text-align: right;\n",
       "    }\n",
       "</style>\n",
       "<table border=\"1\" class=\"dataframe\">\n",
       "  <thead>\n",
       "    <tr style=\"text-align: right;\">\n",
       "      <th></th>\n",
       "      <th>country</th>\n",
       "      <th>food_category</th>\n",
       "      <th>consumption</th>\n",
       "      <th>co2_emission</th>\n",
       "    </tr>\n",
       "  </thead>\n",
       "  <tbody>\n",
       "    <tr>\n",
       "      <th>56</th>\n",
       "      <td>USA</td>\n",
       "      <td>pork</td>\n",
       "      <td>27.64</td>\n",
       "      <td>97.83</td>\n",
       "    </tr>\n",
       "    <tr>\n",
       "      <th>57</th>\n",
       "      <td>USA</td>\n",
       "      <td>poultry</td>\n",
       "      <td>50.01</td>\n",
       "      <td>53.72</td>\n",
       "    </tr>\n",
       "    <tr>\n",
       "      <th>58</th>\n",
       "      <td>USA</td>\n",
       "      <td>beef</td>\n",
       "      <td>36.24</td>\n",
       "      <td>1118.29</td>\n",
       "    </tr>\n",
       "    <tr>\n",
       "      <th>59</th>\n",
       "      <td>USA</td>\n",
       "      <td>lamb_goat</td>\n",
       "      <td>0.43</td>\n",
       "      <td>15.06</td>\n",
       "    </tr>\n",
       "    <tr>\n",
       "      <th>60</th>\n",
       "      <td>USA</td>\n",
       "      <td>fish</td>\n",
       "      <td>12.35</td>\n",
       "      <td>19.72</td>\n",
       "    </tr>\n",
       "    <tr>\n",
       "      <th>61</th>\n",
       "      <td>USA</td>\n",
       "      <td>eggs</td>\n",
       "      <td>14.58</td>\n",
       "      <td>13.39</td>\n",
       "    </tr>\n",
       "    <tr>\n",
       "      <th>62</th>\n",
       "      <td>USA</td>\n",
       "      <td>dairy</td>\n",
       "      <td>254.69</td>\n",
       "      <td>362.78</td>\n",
       "    </tr>\n",
       "    <tr>\n",
       "      <th>63</th>\n",
       "      <td>USA</td>\n",
       "      <td>wheat</td>\n",
       "      <td>80.43</td>\n",
       "      <td>15.34</td>\n",
       "    </tr>\n",
       "    <tr>\n",
       "      <th>64</th>\n",
       "      <td>USA</td>\n",
       "      <td>rice</td>\n",
       "      <td>6.88</td>\n",
       "      <td>8.80</td>\n",
       "    </tr>\n",
       "    <tr>\n",
       "      <th>65</th>\n",
       "      <td>USA</td>\n",
       "      <td>soybeans</td>\n",
       "      <td>0.04</td>\n",
       "      <td>0.02</td>\n",
       "    </tr>\n",
       "    <tr>\n",
       "      <th>66</th>\n",
       "      <td>USA</td>\n",
       "      <td>nuts</td>\n",
       "      <td>7.86</td>\n",
       "      <td>13.91</td>\n",
       "    </tr>\n",
       "    <tr>\n",
       "      <th>408</th>\n",
       "      <td>Germany</td>\n",
       "      <td>pork</td>\n",
       "      <td>51.81</td>\n",
       "      <td>183.38</td>\n",
       "    </tr>\n",
       "    <tr>\n",
       "      <th>409</th>\n",
       "      <td>Germany</td>\n",
       "      <td>poultry</td>\n",
       "      <td>17.75</td>\n",
       "      <td>19.07</td>\n",
       "    </tr>\n",
       "    <tr>\n",
       "      <th>410</th>\n",
       "      <td>Germany</td>\n",
       "      <td>beef</td>\n",
       "      <td>13.16</td>\n",
       "      <td>406.09</td>\n",
       "    </tr>\n",
       "    <tr>\n",
       "      <th>411</th>\n",
       "      <td>Germany</td>\n",
       "      <td>lamb_goat</td>\n",
       "      <td>0.73</td>\n",
       "      <td>25.56</td>\n",
       "    </tr>\n",
       "    <tr>\n",
       "      <th>412</th>\n",
       "      <td>Germany</td>\n",
       "      <td>fish</td>\n",
       "      <td>11.16</td>\n",
       "      <td>17.82</td>\n",
       "    </tr>\n",
       "    <tr>\n",
       "      <th>413</th>\n",
       "      <td>Germany</td>\n",
       "      <td>eggs</td>\n",
       "      <td>12.20</td>\n",
       "      <td>11.21</td>\n",
       "    </tr>\n",
       "    <tr>\n",
       "      <th>414</th>\n",
       "      <td>Germany</td>\n",
       "      <td>dairy</td>\n",
       "      <td>258.70</td>\n",
       "      <td>368.49</td>\n",
       "    </tr>\n",
       "    <tr>\n",
       "      <th>415</th>\n",
       "      <td>Germany</td>\n",
       "      <td>wheat</td>\n",
       "      <td>83.41</td>\n",
       "      <td>15.91</td>\n",
       "    </tr>\n",
       "    <tr>\n",
       "      <th>416</th>\n",
       "      <td>Germany</td>\n",
       "      <td>rice</td>\n",
       "      <td>3.34</td>\n",
       "      <td>4.27</td>\n",
       "    </tr>\n",
       "    <tr>\n",
       "      <th>417</th>\n",
       "      <td>Germany</td>\n",
       "      <td>soybeans</td>\n",
       "      <td>0.88</td>\n",
       "      <td>0.40</td>\n",
       "    </tr>\n",
       "    <tr>\n",
       "      <th>418</th>\n",
       "      <td>Germany</td>\n",
       "      <td>nuts</td>\n",
       "      <td>7.96</td>\n",
       "      <td>14.09</td>\n",
       "    </tr>\n",
       "  </tbody>\n",
       "</table>\n",
       "</div>"
      ],
      "text/plain": [
       "     country food_category  consumption  co2_emission\n",
       "56       USA          pork        27.64         97.83\n",
       "57       USA       poultry        50.01         53.72\n",
       "58       USA          beef        36.24       1118.29\n",
       "59       USA     lamb_goat         0.43         15.06\n",
       "60       USA          fish        12.35         19.72\n",
       "61       USA          eggs        14.58         13.39\n",
       "62       USA         dairy       254.69        362.78\n",
       "63       USA         wheat        80.43         15.34\n",
       "64       USA          rice         6.88          8.80\n",
       "65       USA      soybeans         0.04          0.02\n",
       "66       USA          nuts         7.86         13.91\n",
       "408  Germany          pork        51.81        183.38\n",
       "409  Germany       poultry        17.75         19.07\n",
       "410  Germany          beef        13.16        406.09\n",
       "411  Germany     lamb_goat         0.73         25.56\n",
       "412  Germany          fish        11.16         17.82\n",
       "413  Germany          eggs        12.20         11.21\n",
       "414  Germany         dairy       258.70        368.49\n",
       "415  Germany         wheat        83.41         15.91\n",
       "416  Germany          rice         3.34          4.27\n",
       "417  Germany      soybeans         0.88          0.40\n",
       "418  Germany          nuts         7.96         14.09"
      ]
     },
     "execution_count": 15,
     "metadata": {},
     "output_type": "execute_result"
    }
   ],
   "source": [
    "#filter for Germany or USA\n",
    "belg_food_consumption = food_consumption[(food_consumption[\"country\"] == \"Germany\") | (food_consumption[\"country\"] == \"USA\")]\n",
    "belg_food_consumption"
   ]
  },
  {
   "cell_type": "code",
   "execution_count": 27,
   "metadata": {},
   "outputs": [
    {
     "name": "stdout",
     "output_type": "stream",
     "text": [
      "     country food_category  consumption  co2_emission\n",
      "397  Belgium          pork        38.65        136.80\n",
      "398  Belgium       poultry        12.20         13.11\n",
      "399  Belgium          beef        15.63        482.31\n",
      "400  Belgium     lamb_goat         1.32         46.23\n",
      "401  Belgium          fish        18.97         30.29\n",
      "402  Belgium          eggs        12.59         11.57\n",
      "403  Belgium         dairy       236.19        336.43\n",
      "404  Belgium         wheat       111.91         21.34\n",
      "405  Belgium          rice         8.61         11.02\n",
      "406  Belgium      soybeans         0.07          0.03\n",
      "407  Belgium          nuts         7.32         12.96\n",
      "the mean of the consumption in Belgium is 42.13272727272727 and the median of the consumption in Belgium is 12.59\n"
     ]
    }
   ],
   "source": [
    "#find the mean and median for Belguim\n",
    "df_belgium = food_consumption[food_consumption['country']== \"Belgium\"]\n",
    "print(df_belgium)\n",
    "\n",
    "\n",
    "mean_consumption = df_belgium['consumption'].mean()\n",
    "median_consumption = df_belgium['consumption'].median()\n",
    "#or\n",
    "# mean_consumption = np.mean(df_belgium['consumption'])\n",
    "# median_consumption = np.median(df_belgium['consumption'])\n",
    "\n",
    "\n",
    "print(f'the mean of the consumption in Belgium is {mean_consumption} and the median of the consumption in Belgium is {median_consumption}')"
   ]
  },
  {
   "cell_type": "code",
   "execution_count": 30,
   "metadata": {},
   "outputs": [
    {
     "name": "stdout",
     "output_type": "stream",
     "text": [
      "   country food_category  consumption  co2_emission\n",
      "56     USA          pork        27.64         97.83\n",
      "57     USA       poultry        50.01         53.72\n",
      "58     USA          beef        36.24       1118.29\n",
      "59     USA     lamb_goat         0.43         15.06\n",
      "60     USA          fish        12.35         19.72\n",
      "61     USA          eggs        14.58         13.39\n",
      "62     USA         dairy       254.69        362.78\n",
      "63     USA         wheat        80.43         15.34\n",
      "64     USA          rice         6.88          8.80\n",
      "65     USA      soybeans         0.04          0.02\n",
      "66     USA          nuts         7.86         13.91\n",
      "the mean of the consumption in Belgium is 44.650000000000006 and the median of the consumption in Belgium is 14.58\n"
     ]
    }
   ],
   "source": [
    "#calculate the mean and median values for USA\n",
    "\n",
    "df_USA = food_consumption[food_consumption['country']=='USA']\n",
    "print(df_USA)\n",
    "mean_cons_USA = df_USA['consumption'].mean()\n",
    "median_cons_USA = df_USA['consumption'].median()\n",
    "print(\n",
    "    f'the mean of the consumption in Belgium is {mean_cons_USA} and the median of the consumption in Belgium is {median_cons_USA}')\n"
   ]
  },
  {
   "cell_type": "code",
   "execution_count": null,
   "metadata": {},
   "outputs": [],
   "source": [
    "# Work with both countries together\n",
    "# group by and aggregation\n",
    "be_and_usa = food_consumption[(food_consumption['country'] == 'Belgium') |\n",
    "                              (food_consumption['country'] == 'USA')]\n",
    "\n",
    "# Q-3) Group by country, select consumption column, and compute mean and median\n",
    "# df.groupby(['group_col'])['value_col'].mean()\n",
    "\n",
    "mean = be_and_usa.groupby(['country'])['consumption'].mean()\n",
    "median = be_and_usa.groupby(['country'])['consumption'].median()\n",
    "print(f'the mean is \\n {mean}')\n",
    "print()\n",
    "print(f' the median is \\n {median}')\n",
    "\n",
    "####################################\n"
   ]
  },
  {
   "cell_type": "code",
   "execution_count": null,
   "metadata": {},
   "outputs": [],
   "source": [
    "# another wat of aggregation\n",
    "be_and_usa_group = be_and_usa.groupby([\"country\"])\n",
    "be_and_usa_group['consumption'].aggregate([\"mean\", \"median\"])\n"
   ]
  },
  {
   "cell_type": "code",
   "execution_count": null,
   "metadata": {},
   "outputs": [],
   "source": [
    "rice_consumption = food_consumption[food_consumption['food_category'] == 'rice']\n",
    "rice_consumption\n",
    "\n",
    "# Q-4)Plot the histogram of co2_emission for rice\n",
    "\n",
    "fig = plt.figure(figsize=(8, 8))\n",
    "plt.hist(rice_consumption['co2_emission'],\n",
    "         bins=20, color='blue', edgecolor=\"k\")\n",
    "plt.xlabel('CO2 emission for rice')\n",
    "plt.ylabel('frequency')\n",
    "plt.title(\"histogram for rice CO2 emission\")\n"
   ]
  },
  {
   "cell_type": "code",
   "execution_count": 56,
   "metadata": {},
   "outputs": [
    {
     "name": "stdout",
     "output_type": "stream",
     "text": [
      "[   0.       3.54    11.026   25.59    99.978 1712.   ]\n"
     ]
    }
   ],
   "source": [
    "# Q-6) Calculate the quintiles of co2_emission\n",
    "print(np.quantile(food_consumption['co2_emission'], np.linspace(0, 1, 6)))\n",
    "\n",
    "\n",
    "    \n"
   ]
  },
  {
   "cell_type": "code",
   "execution_count": 66,
   "metadata": {},
   "outputs": [
    {
     "data": {
      "image/png": "[encoded data removed]",
      "text/plain": [
       "<Figure size 800x800 with 1 Axes>"
      ]
     },
     "metadata": {},
     "output_type": "display_data"
    }
   ],
   "source": [
    "# Q-7) Calculate the variance and standard deviation of co2_emission\n",
    "#     for food_categories\n",
    "\n",
    "grouped = food_consumption.groupby([\"food_category\"])\n",
    "grouped[\"co2_emission\"].aggregate([\"var\", \"std\"])\n",
    "\n",
    "\n",
    "#  Q-8) Create histogram of co2_emission for food_category 'beef'\n",
    "filter = food_consumption[food_consumption[\"food_category\"]==\"beef\"]\n",
    "plt.figure(figsize=(8,8))\n",
    "plt.hist (filter['co2_emission'],bins=10,color=\"blue\",edgecolor=\"k\")\n",
    "plt.xlabel(\"co2_emission\")\n",
    "plt.ylabel(\"frequency\")\n",
    "plt.title(\"co2_emission for beef\")\n",
    "plt.show()\n"
   ]
  },
  {
   "cell_type": "code",
   "execution_count": 79,
   "metadata": {},
   "outputs": [
    {
     "name": "stdout",
     "output_type": "stream",
     "text": [
      "country\n",
      "Albania      1777.85\n",
      "Algeria       707.88\n",
      "Angola        412.99\n",
      "Argentina    2172.40\n",
      "Armenia      1109.93\n",
      "              ...   \n",
      "Uruguay      1634.91\n",
      "Venezuela    1104.10\n",
      "Vietnam       641.51\n",
      "Zambia        225.30\n",
      "Zimbabwe      350.33\n",
      "Name: co2_emission, Length: 130, dtype: float64\n"
     ]
    },
    {
     "data": {
      "image/png": "[encoded data removed]",
      "text/plain": [
       "<Figure size 800x800 with 1 Axes>"
      ]
     },
     "metadata": {},
     "output_type": "display_data"
    }
   ],
   "source": [
    "#finding outliers using interquartile range IQR \n",
    "\n",
    "emissions_by_country = food_consumption.groupby(\"country\")[\n",
    "    \"co2_emission\"].sum()\n",
    "\n",
    "print(emissions_by_country)\n",
    "plt.figure(figsize=(8,8))\n",
    "plt.boxplot(emissions_by_country)\n",
    "plt.show()\n"
   ]
  },
  {
   "cell_type": "code",
   "execution_count": 80,
   "metadata": {},
   "outputs": [
    {
     "name": "stdout",
     "output_type": "stream",
     "text": [
      "country\n",
      "Argentina    2172.4\n",
      "Name: co2_emission, dtype: float64\n"
     ]
    }
   ],
   "source": [
    "q1 = np.quantile(emissions_by_country, 0.25)\n",
    "q3 = np.quantile(emissions_by_country, 0.75)\n",
    "iqr = q3 - q1\n",
    "\n",
    "# Calculate the lower and upper cutoffs for outliers\n",
    "lower = q1 - 1.5 * iqr\n",
    "upper = q3 + 1.5 * iqr\n",
    "\n",
    "# Subset emissions_by_country to find outliers\n",
    "outliers = emissions_by_country[(emissions_by_country > upper) | (\n",
    "    emissions_by_country < lower)]\n",
    "print(outliers)\n",
    "# ABaa"
   ]
  }
 ],
 "metadata": {
  "kernelspec": {
   "display_name": "Python 3",
   "language": "python",
   "name": "python3"
  },
  "language_info": {
   "codemirror_mode": {
    "name": "ipython",
    "version": 3
   },
   "file_extension": ".py",
   "mimetype": "text/x-python",
   "name": "python",
   "nbconvert_exporter": "python",
   "pygments_lexer": "ipython3",
   "version": "3.11.1"
  },
  "orig_nbformat": 4
 },
 "nbformat": 4,
 "nbformat_minor": 2
}
