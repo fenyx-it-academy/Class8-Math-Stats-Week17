{
 "cells": [
  {
   "cell_type": "code",
   "execution_count": 3,
   "id": "1bdf5659",
   "metadata": {},
   "outputs": [],
   "source": [
    "import math\n",
    "import statistics\n",
    "import numpy as np\n",
    "import scipy.stats\n",
    "import pandas as pd"
   ]
  },
  {
   "cell_type": "code",
   "execution_count": 20,
   "id": "dfc5fea0",
   "metadata": {},
   "outputs": [
    {
     "name": "stdout",
     "output_type": "stream",
     "text": [
      "[8.0, 1, 2.5, 4, 28.0]\n",
      "[8.0, 1, 2.5, nan, 4, 28.0]\n"
     ]
    }
   ],
   "source": [
    "x = [8.0, 1, 2.5, 4, 28.0]\n",
    "x_with_nan = [8.0, 1, 2.5, math.nan, 4, 28.0]\n",
    "\n",
    "print(x)\n",
    "print(x_with_nan)"
   ]
  },
  {
   "cell_type": "code",
   "execution_count": 5,
   "id": "b247f853",
   "metadata": {},
   "outputs": [
    {
     "data": {
      "text/plain": [
       "(True, True)"
      ]
     },
     "execution_count": 5,
     "metadata": {},
     "output_type": "execute_result"
    }
   ],
   "source": [
    "math.isnan(np.nan),np.isnan(math.nan)"
   ]
  },
  {
   "cell_type": "code",
   "execution_count": 6,
   "id": "6e2ae852",
   "metadata": {},
   "outputs": [
    {
     "name": "stdout",
     "output_type": "stream",
     "text": [
      "-------y------\n",
      "[ 8.   1.   2.5  4.  28. ]\n",
      "-------y_with_nan------\n",
      "[ 8.   1.   2.5  nan  4.  28. ]\n",
      "-------z------\n",
      "0     8.0\n",
      "1     1.0\n",
      "2     2.5\n",
      "3     4.0\n",
      "4    28.0\n",
      "dtype: float64\n",
      "-------z_with_nan------\n",
      "0     8.0\n",
      "1     1.0\n",
      "2     2.5\n",
      "3     NaN\n",
      "4     4.0\n",
      "5    28.0\n",
      "dtype: float64\n"
     ]
    }
   ],
   "source": [
    "y, y_with_nan = np.array(x), np.array(x_with_nan)\n",
    "z, z_with_nan = pd.Series(x), pd.Series(x_with_nan)\n",
    "print(\"-------y------\")\n",
    "print(y)\n",
    "print(\"-------y_with_nan------\")\n",
    "print(y_with_nan)\n",
    "print(\"-------z------\")\n",
    "print(z)\n",
    "print(\"-------z_with_nan------\")\n",
    "print(z_with_nan)\n"
   ]
  },
  {
   "cell_type": "code",
   "execution_count": 7,
   "id": "66ed0987",
   "metadata": {},
   "outputs": [
    {
     "data": {
      "text/plain": [
       "8.7"
      ]
     },
     "execution_count": 7,
     "metadata": {},
     "output_type": "execute_result"
    }
   ],
   "source": [
    "mean_ = sum(x) / len(x)\n",
    "mean_"
   ]
  },
  {
   "cell_type": "code",
   "execution_count": 8,
   "id": "967becab",
   "metadata": {},
   "outputs": [],
   "source": [
    "# Descriptive Statistics"
   ]
  },
  {
   "cell_type": "code",
   "execution_count": 9,
   "id": "2a2b56f3",
   "metadata": {},
   "outputs": [
    {
     "name": "stdout",
     "output_type": "stream",
     "text": [
      "      Name  Age  Rating\n",
      "0    Ahmet   25    4.23\n",
      "1   Mehmet   26    3.24\n",
      "2     Ayse   25    3.98\n",
      "3     Berk   23    2.56\n",
      "4   Mahmut   30    3.20\n",
      "5    Aylin   29    4.60\n",
      "6    Kazim   23    3.80\n",
      "7      Lee   34    3.78\n",
      "8    Temel   40    2.98\n",
      "9   Gasper   30    4.80\n",
      "10   Fatma   51    4.10\n",
      "11    Elif   46    3.65\n"
     ]
    }
   ],
   "source": [
    "#Create a Dictionary of series\n",
    "d = {'Name':pd.Series(['Ahmet','Mehmet','Ayse','Berk','Mahmut','Aylin','Kazim',\n",
    "   'Lee','Temel','Gasper','Fatma','Elif']),\n",
    "   'Age':pd.Series([25,26,25,23,30,29,23,34,40,30,51,46]),\n",
    "   'Rating':pd.Series([4.23,3.24,3.98,2.56,3.20,4.6,3.8,3.78,2.98,4.80,4.10,3.65])\n",
    "}\n",
    "\n",
    "#Create a DataFrame\n",
    "df = pd.DataFrame(d)\n",
    "print(df)"
   ]
  },
  {
   "cell_type": "code",
   "execution_count": 10,
   "id": "360cb068",
   "metadata": {},
   "outputs": [
    {
     "name": "stdout",
     "output_type": "stream",
     "text": [
      "Name      AhmetMehmetAyseBerkMahmutAylinKazimLeeTemelGas...\n",
      "Age                                                     382\n",
      "Rating                                                44.92\n",
      "dtype: object\n"
     ]
    }
   ],
   "source": [
    "#Create a DataFrame\n",
    "df = pd.DataFrame(d)\n",
    "#summation\n",
    "print(df.sum())"
   ]
  },
  {
   "cell_type": "code",
   "execution_count": 11,
   "id": "3cc2f4a7",
   "metadata": {},
   "outputs": [
    {
     "data": {
      "text/plain": [
       "382"
      ]
     },
     "execution_count": 11,
     "metadata": {},
     "output_type": "execute_result"
    }
   ],
   "source": [
    "#select a column\n",
    "df['Age'].sum() "
   ]
  },
  {
   "cell_type": "code",
   "execution_count": 12,
   "id": "d759408c",
   "metadata": {},
   "outputs": [
    {
     "name": "stdout",
     "output_type": "stream",
     "text": [
      "----VAR------\n",
      "Age       85.242424\n",
      "Rating     0.437752\n",
      "dtype: float64\n",
      "----STD----\n",
      "Age       9.232682\n",
      "Rating    0.661628\n",
      "dtype: float64\n"
     ]
    }
   ],
   "source": [
    "#apply a desired funtion on specified column(s)\n",
    "print(\"----VAR------\")\n",
    "print(df[['Age','Rating']].var())\n",
    "\n",
    "print(\"----STD----\")\n",
    "print(df[['Age','Rating']].std())\n"
   ]
  },
  {
   "cell_type": "code",
   "execution_count": 13,
   "id": "f0976111",
   "metadata": {},
   "outputs": [],
   "source": [
    "#Sr.No.\tFunction\tDescription\n",
    "#1\tcount()\tNumber of non-null observations\n",
    "#2\tsum()\tSum of values\n",
    "#3\tmean()\tMean of Values\n",
    "#4\tmedian()\tMedian of Values\n",
    "#5\tmode()\tMode of values\n",
    "#6\tstd()\tStandard Deviation of the Values\n",
    "#7\tvar()\tVariance of the Values\n",
    "#8\tmin()\tMinimum Value\n",
    "#9\tmax()\tMaximum Value\n",
    "#10\tabs()\tAbsolute Value\n",
    "#11\tprod()\tProduct of Values\n",
    "#12\tcumsum()\tCumulative Sum\n",
    "#13\tcumprod()\tCumulative Product"
   ]
  },
  {
   "cell_type": "code",
   "execution_count": 14,
   "id": "2837e207",
   "metadata": {},
   "outputs": [
    {
     "name": "stdout",
     "output_type": "stream",
     "text": [
      "             Age     Rating\n",
      "count  12.000000  12.000000\n",
      "mean   31.833333   3.743333\n",
      "std     9.232682   0.661628\n",
      "min    23.000000   2.560000\n",
      "25%    25.000000   3.230000\n",
      "50%    29.500000   3.790000\n",
      "75%    35.500000   4.132500\n",
      "max    51.000000   4.800000\n"
     ]
    }
   ],
   "source": [
    "print(df.describe())"
   ]
  },
  {
   "cell_type": "code",
   "execution_count": 15,
   "id": "8507fd0d",
   "metadata": {},
   "outputs": [],
   "source": [
    "#Python Pandas - Visualization"
   ]
  },
  {
   "cell_type": "code",
   "execution_count": 16,
   "id": "7c8e55dc",
   "metadata": {},
   "outputs": [
    {
     "data": {
      "text/html": [
       "<div>\n",
       "<style scoped>\n",
       "    .dataframe tbody tr th:only-of-type {\n",
       "        vertical-align: middle;\n",
       "    }\n",
       "\n",
       "    .dataframe tbody tr th {\n",
       "        vertical-align: top;\n",
       "    }\n",
       "\n",
       "    .dataframe thead th {\n",
       "        text-align: right;\n",
       "    }\n",
       "</style>\n",
       "<table border=\"1\" class=\"dataframe\">\n",
       "  <thead>\n",
       "    <tr style=\"text-align: right;\">\n",
       "      <th></th>\n",
       "      <th>A</th>\n",
       "      <th>B</th>\n",
       "      <th>C</th>\n",
       "      <th>D</th>\n",
       "    </tr>\n",
       "  </thead>\n",
       "  <tbody>\n",
       "    <tr>\n",
       "      <th>2000-01-01</th>\n",
       "      <td>1.652670</td>\n",
       "      <td>-0.200708</td>\n",
       "      <td>0.588011</td>\n",
       "      <td>-0.070368</td>\n",
       "    </tr>\n",
       "    <tr>\n",
       "      <th>2000-01-02</th>\n",
       "      <td>-0.559700</td>\n",
       "      <td>0.124491</td>\n",
       "      <td>2.380162</td>\n",
       "      <td>0.032027</td>\n",
       "    </tr>\n",
       "    <tr>\n",
       "      <th>2000-01-03</th>\n",
       "      <td>0.030516</td>\n",
       "      <td>0.385032</td>\n",
       "      <td>-0.591644</td>\n",
       "      <td>0.317218</td>\n",
       "    </tr>\n",
       "    <tr>\n",
       "      <th>2000-01-04</th>\n",
       "      <td>-0.068182</td>\n",
       "      <td>-0.062256</td>\n",
       "      <td>0.569313</td>\n",
       "      <td>-0.157689</td>\n",
       "    </tr>\n",
       "    <tr>\n",
       "      <th>2000-01-05</th>\n",
       "      <td>-0.191655</td>\n",
       "      <td>-0.004491</td>\n",
       "      <td>0.799114</td>\n",
       "      <td>-1.974115</td>\n",
       "    </tr>\n",
       "    <tr>\n",
       "      <th>2000-01-06</th>\n",
       "      <td>0.599730</td>\n",
       "      <td>-0.400741</td>\n",
       "      <td>0.613191</td>\n",
       "      <td>-1.121562</td>\n",
       "    </tr>\n",
       "    <tr>\n",
       "      <th>2000-01-07</th>\n",
       "      <td>-0.049490</td>\n",
       "      <td>-0.078839</td>\n",
       "      <td>-0.236397</td>\n",
       "      <td>0.298257</td>\n",
       "    </tr>\n",
       "    <tr>\n",
       "      <th>2000-01-08</th>\n",
       "      <td>-0.335025</td>\n",
       "      <td>-1.229409</td>\n",
       "      <td>2.258035</td>\n",
       "      <td>-1.047011</td>\n",
       "    </tr>\n",
       "    <tr>\n",
       "      <th>2000-01-09</th>\n",
       "      <td>-0.924232</td>\n",
       "      <td>-0.281735</td>\n",
       "      <td>1.748594</td>\n",
       "      <td>-0.684436</td>\n",
       "    </tr>\n",
       "    <tr>\n",
       "      <th>2000-01-10</th>\n",
       "      <td>0.461700</td>\n",
       "      <td>-0.136269</td>\n",
       "      <td>-0.550983</td>\n",
       "      <td>-1.868566</td>\n",
       "    </tr>\n",
       "  </tbody>\n",
       "</table>\n",
       "</div>"
      ],
      "text/plain": [
       "                   A         B         C         D\n",
       "2000-01-01  1.652670 -0.200708  0.588011 -0.070368\n",
       "2000-01-02 -0.559700  0.124491  2.380162  0.032027\n",
       "2000-01-03  0.030516  0.385032 -0.591644  0.317218\n",
       "2000-01-04 -0.068182 -0.062256  0.569313 -0.157689\n",
       "2000-01-05 -0.191655 -0.004491  0.799114 -1.974115\n",
       "2000-01-06  0.599730 -0.400741  0.613191 -1.121562\n",
       "2000-01-07 -0.049490 -0.078839 -0.236397  0.298257\n",
       "2000-01-08 -0.335025 -1.229409  2.258035 -1.047011\n",
       "2000-01-09 -0.924232 -0.281735  1.748594 -0.684436\n",
       "2000-01-10  0.461700 -0.136269 -0.550983 -1.868566"
      ]
     },
     "execution_count": 16,
     "metadata": {},
     "output_type": "execute_result"
    }
   ],
   "source": [
    "#np.random.seed(123)\n",
    "df = pd.DataFrame(np.random.randn(10,4),index=pd.date_range('1/1/2000',\n",
    "   periods=10), columns=list('ABCD'))\n",
    "x\n",
    "df"
   ]
  },
  {
   "cell_type": "code",
   "execution_count": 17,
   "id": "463d2e50",
   "metadata": {},
   "outputs": [
    {
     "data": {
      "text/html": [
       "<div>\n",
       "<style scoped>\n",
       "    .dataframe tbody tr th:only-of-type {\n",
       "        vertical-align: middle;\n",
       "    }\n",
       "\n",
       "    .dataframe tbody tr th {\n",
       "        vertical-align: top;\n",
       "    }\n",
       "\n",
       "    .dataframe thead th {\n",
       "        text-align: right;\n",
       "    }\n",
       "</style>\n",
       "<table border=\"1\" class=\"dataframe\">\n",
       "  <thead>\n",
       "    <tr style=\"text-align: right;\">\n",
       "      <th></th>\n",
       "      <th>A</th>\n",
       "      <th>B</th>\n",
       "      <th>C</th>\n",
       "      <th>D</th>\n",
       "    </tr>\n",
       "  </thead>\n",
       "  <tbody>\n",
       "    <tr>\n",
       "      <th>count</th>\n",
       "      <td>10.000000</td>\n",
       "      <td>10.000000</td>\n",
       "      <td>10.000000</td>\n",
       "      <td>10.000000</td>\n",
       "    </tr>\n",
       "    <tr>\n",
       "      <th>mean</th>\n",
       "      <td>0.061633</td>\n",
       "      <td>-0.188492</td>\n",
       "      <td>0.757740</td>\n",
       "      <td>-0.627624</td>\n",
       "    </tr>\n",
       "    <tr>\n",
       "      <th>std</th>\n",
       "      <td>0.714193</td>\n",
       "      <td>0.425419</td>\n",
       "      <td>1.078772</td>\n",
       "      <td>0.849350</td>\n",
       "    </tr>\n",
       "    <tr>\n",
       "      <th>min</th>\n",
       "      <td>-0.924232</td>\n",
       "      <td>-1.229409</td>\n",
       "      <td>-0.591644</td>\n",
       "      <td>-1.974115</td>\n",
       "    </tr>\n",
       "    <tr>\n",
       "      <th>25%</th>\n",
       "      <td>-0.299183</td>\n",
       "      <td>-0.261478</td>\n",
       "      <td>-0.034970</td>\n",
       "      <td>-1.102924</td>\n",
       "    </tr>\n",
       "    <tr>\n",
       "      <th>50%</th>\n",
       "      <td>-0.058836</td>\n",
       "      <td>-0.107554</td>\n",
       "      <td>0.600601</td>\n",
       "      <td>-0.421063</td>\n",
       "    </tr>\n",
       "    <tr>\n",
       "      <th>75%</th>\n",
       "      <td>0.353904</td>\n",
       "      <td>-0.018932</td>\n",
       "      <td>1.511224</td>\n",
       "      <td>0.006429</td>\n",
       "    </tr>\n",
       "    <tr>\n",
       "      <th>max</th>\n",
       "      <td>1.652670</td>\n",
       "      <td>0.385032</td>\n",
       "      <td>2.380162</td>\n",
       "      <td>0.317218</td>\n",
       "    </tr>\n",
       "  </tbody>\n",
       "</table>\n",
       "</div>"
      ],
      "text/plain": [
       "               A          B          C          D\n",
       "count  10.000000  10.000000  10.000000  10.000000\n",
       "mean    0.061633  -0.188492   0.757740  -0.627624\n",
       "std     0.714193   0.425419   1.078772   0.849350\n",
       "min    -0.924232  -1.229409  -0.591644  -1.974115\n",
       "25%    -0.299183  -0.261478  -0.034970  -1.102924\n",
       "50%    -0.058836  -0.107554   0.600601  -0.421063\n",
       "75%     0.353904  -0.018932   1.511224   0.006429\n",
       "max     1.652670   0.385032   2.380162   0.317218"
      ]
     },
     "execution_count": 17,
     "metadata": {},
     "output_type": "execute_result"
    }
   ],
   "source": [
    "df.describe()\n",
    "#notice on the mean and std"
   ]
  },
  {
   "cell_type": "code",
   "execution_count": 18,
   "id": "9e535642",
   "metadata": {},
   "outputs": [
    {
     "data": {
      "text/plain": [
       "<AxesSubplot:>"
      ]
     },
     "execution_count": 18,
     "metadata": {},
     "output_type": "execute_result"
    },
    {
     "data": {
      "image/png": "[encoded data removed]",
      "text/plain": [
       "<Figure size 640x480 with 1 Axes>"
      ]
     },
     "metadata": {},
     "output_type": "display_data"
    }
   ],
   "source": [
    "df.plot()"
   ]
  },
  {
   "cell_type": "code",
   "execution_count": 19,
   "id": "3701794d",
   "metadata": {},
   "outputs": [
    {
     "data": {
      "text/plain": [
       "<AxesSubplot:>"
      ]
     },
     "execution_count": 19,
     "metadata": {},
     "output_type": "execute_result"
    },
    {
     "data": {
      "image/png": "[encoded data removed]",
      "text/plain": [
       "<Figure size 640x480 with 1 Axes>"
      ]
     },
     "metadata": {},
     "output_type": "display_data"
    }
   ],
   "source": [
    "#only non zero values\n",
    "nanzero_df = pd.DataFrame(np.random.rand(10,4),columns=['a','b','c','d'])\n",
    "nanzero_df.plot.bar()"
   ]
  },
  {
   "cell_type": "code",
   "execution_count": 90,
   "id": "7c0c74c4",
   "metadata": {},
   "outputs": [
    {
     "data": {
      "text/plain": [
       "<AxesSubplot:>"
      ]
     },
     "execution_count": 90,
     "metadata": {},
     "output_type": "execute_result"
    },
    {
     "data": {
      "image/png": "[encoded data removed]",
      "text/plain": [
       "<Figure size 432x288 with 1 Axes>"
      ]
     },
     "metadata": {
      "needs_background": "light"
     },
     "output_type": "display_data"
    }
   ],
   "source": [
    "nanzero_df.plot.bar(stacked=True)"
   ]
  },
  {
   "cell_type": "code",
   "execution_count": 92,
   "id": "fba40ba6",
   "metadata": {},
   "outputs": [
    {
     "data": {
      "text/plain": [
       "<AxesSubplot:>"
      ]
     },
     "execution_count": 92,
     "metadata": {},
     "output_type": "execute_result"
    },
    {
     "data": {
      "image/png": "[encoded data removed]",
      "text/plain": [
       "<Figure size 432x288 with 1 Axes>"
      ]
     },
     "metadata": {
      "needs_background": "light"
     },
     "output_type": "display_data"
    }
   ],
   "source": [
    "#horizontal\n",
    "nanzero_df.plot.barh(stacked=True)"
   ]
  },
  {
   "cell_type": "code",
   "execution_count": 33,
   "id": "21cf8bde",
   "metadata": {},
   "outputs": [
    {
     "data": {
      "text/plain": [
       "<AxesSubplot:ylabel='Frequency'>"
      ]
     },
     "execution_count": 33,
     "metadata": {},
     "output_type": "execute_result"
    },
    {
     "data": {
      "image/png": "[encoded data removed]",
      "text/plain": [
       "<Figure size 432x288 with 1 Axes>"
      ]
     },
     "metadata": {
      "needs_background": "light"
     },
     "output_type": "display_data"
    }
   ],
   "source": [
    "df = pd.DataFrame({'a':np.random.randn(1000),'b':np.random.randn(1000),'c':\n",
    "np.random.randn(1000)}, columns=['a', 'b', 'c'])\n",
    "\n",
    "#df.plot.hist(bins=20)\n",
    "df.describe()\n",
    "df['a'].plot.hist(bins=20)"
   ]
  },
  {
   "cell_type": "code",
   "execution_count": 34,
   "id": "3cd1e405",
   "metadata": {},
   "outputs": [
    {
     "data": {
      "text/plain": [
       "<AxesSubplot:>"
      ]
     },
     "execution_count": 34,
     "metadata": {},
     "output_type": "execute_result"
    },
    {
     "data": {
      "image/png": "[encoded data removed]",
      "text/plain": [
       "<Figure size 432x288 with 1 Axes>"
      ]
     },
     "metadata": {
      "needs_background": "light"
     },
     "output_type": "display_data"
    }
   ],
   "source": [
    "df.plot.box()"
   ]
  },
  {
   "cell_type": "code",
   "execution_count": 113,
   "id": "994a0cd6",
   "metadata": {},
   "outputs": [
    {
     "data": {
      "text/plain": [
       "<AxesSubplot:>"
      ]
     },
     "execution_count": 113,
     "metadata": {},
     "output_type": "execute_result"
    },
    {
     "data": {
      "image/png": "[encoded data removed]",
      "text/plain": [
       "<Figure size 432x288 with 1 Axes>"
      ]
     },
     "metadata": {
      "needs_background": "light"
     },
     "output_type": "display_data"
    }
   ],
   "source": [
    "df = pd.DataFrame(np.random.rand(10, 4), columns=['a', 'b', 'c', 'd'])\n",
    "df.plot.area()"
   ]
  },
  {
   "cell_type": "code",
   "execution_count": 114,
   "id": "0aa251e9",
   "metadata": {},
   "outputs": [
    {
     "data": {
      "text/plain": [
       "<AxesSubplot:xlabel='a', ylabel='b'>"
      ]
     },
     "execution_count": 114,
     "metadata": {},
     "output_type": "execute_result"
    },
    {
     "data": {
      "image/png": "[encoded data removed]",
      "text/plain": [
       "<Figure size 432x288 with 1 Axes>"
      ]
     },
     "metadata": {
      "needs_background": "light"
     },
     "output_type": "display_data"
    }
   ],
   "source": [
    "df = pd.DataFrame(np.random.rand(50, 4), columns=['a', 'b', 'c', 'd'])\n",
    "df.plot.scatter(x='a', y='b')"
   ]
  },
  {
   "cell_type": "code",
   "execution_count": 116,
   "id": "b868872d",
   "metadata": {},
   "outputs": [
    {
     "data": {
      "text/html": [
       "<div>\n",
       "<style scoped>\n",
       "    .dataframe tbody tr th:only-of-type {\n",
       "        vertical-align: middle;\n",
       "    }\n",
       "\n",
       "    .dataframe tbody tr th {\n",
       "        vertical-align: top;\n",
       "    }\n",
       "\n",
       "    .dataframe thead th {\n",
       "        text-align: right;\n",
       "    }\n",
       "</style>\n",
       "<table border=\"1\" class=\"dataframe\">\n",
       "  <thead>\n",
       "    <tr style=\"text-align: right;\">\n",
       "      <th></th>\n",
       "      <th>x</th>\n",
       "    </tr>\n",
       "  </thead>\n",
       "  <tbody>\n",
       "    <tr>\n",
       "      <th>a</th>\n",
       "      <td>1.057573</td>\n",
       "    </tr>\n",
       "    <tr>\n",
       "      <th>b</th>\n",
       "      <td>2.185216</td>\n",
       "    </tr>\n",
       "    <tr>\n",
       "      <th>c</th>\n",
       "      <td>2.718148</td>\n",
       "    </tr>\n",
       "    <tr>\n",
       "      <th>d</th>\n",
       "      <td>1.604397</td>\n",
       "    </tr>\n",
       "  </tbody>\n",
       "</table>\n",
       "</div>"
      ],
      "text/plain": [
       "          x\n",
       "a  1.057573\n",
       "b  2.185216\n",
       "c  2.718148\n",
       "d  1.604397"
      ]
     },
     "execution_count": 116,
     "metadata": {},
     "output_type": "execute_result"
    },
    {
     "data": {
      "image/png": "[encoded data removed]",
      "text/plain": [
       "<Figure size 432x288 with 1 Axes>"
      ]
     },
     "metadata": {},
     "output_type": "display_data"
    }
   ],
   "source": [
    "df = pd.DataFrame(3 * np.random.rand(4), index=['a', 'b', 'c', 'd'], columns=['x'])\n",
    "df.plot.pie(subplots=True)"
   ]
  }
 ],
 "metadata": {
  "kernelspec": {
   "display_name": "Python 3 (ipykernel)",
   "language": "python",
   "name": "python3"
  },
  "language_info": {
   "codemirror_mode": {
    "name": "ipython",
    "version": 3
   },
   "file_extension": ".py",
   "mimetype": "text/x-python",
   "name": "python",
   "nbconvert_exporter": "python",
   "pygments_lexer": "ipython3",
   "version": "3.9.13"
  }
 },
 "nbformat": 4,
 "nbformat_minor": 5
}
